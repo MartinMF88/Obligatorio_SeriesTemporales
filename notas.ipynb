{
 "cells": [
  {
   "cell_type": "markdown",
   "metadata": {},
   "source": [
    "NETFLIX\n",
    "\n",
    "Columna agregada --> Open - close --> correlacionar vs Volume"
   ]
  }
 ],
 "metadata": {
  "language_info": {
   "name": "python"
  }
 },
 "nbformat": 4,
 "nbformat_minor": 2
}
